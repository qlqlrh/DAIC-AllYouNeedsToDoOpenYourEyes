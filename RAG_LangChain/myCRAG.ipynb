{
 "cells": [
  {
   "cell_type": "code",
   "execution_count": 1,
   "id": "d4cdda97",
   "metadata": {},
   "outputs": [
    {
     "data": {
      "text/plain": [
       "True"
      ]
     },
     "execution_count": 1,
     "metadata": {},
     "output_type": "execute_result"
    }
   ],
   "source": [
    "# API 키를 환경변수로 관리하기 위한 설정 파일\n",
    "from dotenv import load_dotenv\n",
    "\n",
    "# API 키 정보 로드\n",
    "load_dotenv()"
   ]
  },
  {
   "cell_type": "code",
   "execution_count": 2,
   "id": "4d3fe4cb",
   "metadata": {},
   "outputs": [
    {
     "name": "stdout",
     "output_type": "stream",
     "text": [
      "LangSmith 추적을 시작합니다.\n",
      "[프로젝트명]\n",
      "CH17-LangGraph-Use-Cases\n"
     ]
    }
   ],
   "source": [
    "# LangSmith 추적을 설정합니다. https://smith.langchain.com\n",
    "# !pip install -qU langchain-teddynote\n",
    "from langchain_teddynote import logging\n",
    "\n",
    "# 프로젝트 이름을 입력합니다.\n",
    "logging.langsmith(\"CH17-LangGraph-Use-Cases\")"
   ]
  },
  {
   "cell_type": "markdown",
   "id": "2e13e5ec",
   "metadata": {},
   "source": [
    "### TO DO\n",
    "\n",
    "#### 음성 인식 주석과 문서의 관련성을 검사하고 자체 피드백후 더 정확한 주석 반영하기\n",
    "\n",
    "#### 1. gpt api를 이용해서 구현하기\n",
    "\n",
    "#### 2. solar-pro api를 이용해서 구현하기\n",
    "\n",
    "#### 3. 비동기식으로 코드를 변경하여서, 반응성을 높이기 (추후과정)"
   ]
  },
  {
   "cell_type": "code",
   "execution_count": 10,
   "id": "5f04deaf",
   "metadata": {},
   "outputs": [
    {
     "name": "stdout",
     "output_type": "stream",
     "text": [
      "Gradients\n",
      "of\n",
      "Matrices\n",
      "[Document(metadata={'page': 1}, page_content='■\\nUseful\\nidentities:\\nGradients\\nof\\nMatrices\\n이 도표는 행렬과 관련된 다양한 수학적 연산과 개념을 시각적으로 표현하고 있습니다. 도표는 10개의 주요 항목으로 구성되어 있으며, 각각의 항목은 수학적 표현과 함께 설명이 포함되어 있습니다. 가장 왼쪽 항목은 대각선 행렬과 그 역행렬을 나타내며, 그 옆에는 행렬의 행렬식과 트레이스가 설명되어 있습니다. 다른 항목들로는 행렬의 역행렬과 관련된 행렬 연산, 행렬의 고유값과 고유벡터, 그리고 행렬의 전치 및 트랜스포즈에 대한 정보가 포함되어 있습니다. 도표는 수학적 표현과 함께 설명이 포함되어 있어서, 행렬과 관련된 다양한 개념을 이해하는 데 도움이 됩니다. 전체적으로는 대칭 행렬에 대한 연산과 특성을 설명하고 있으며, 이를 통해 행렬의 다양한 특성과 연산을 이해할 수 있습니다.\\n12'), Document(metadata={'page': 2}, page_content='■\\nThen\\ncompute\\nazTWz\\ndz\\nas\\ndz\\n=\\n2(x-As)\\nTW\\n·\\n(-A)\\n■\\n■\\nas\\na\\nLet\\ndz\\nZ\\nazTWz\\n=x-As,\\nAs)\\n(x-\\n= ZT(W + WT)\\nand\\nuse\\n=\\n「W(x - As)\\naxT\\ndx\\nBx\\n= x\\n2(x-As)\\n\\nTW\\n)\\n:\\n(B+B\\n= -2(x - As) WA\\na\\nfor\\nax\\nf(X)-1= -f(X)\\nsymmetric\\n(5.108)\\nW\\nax\\naf(X)\\nf(X)-1\\n■\\nClarification\\nof\\nsome\\nidentities:\\nGradients\\nof\\nMatrices\\n(5.102)\\n0\\n=\\nax\\nai\\n=\\nax\\n0\\n(f(X)-1f(X))\\n=\\n(。\\nf(X)-1)\\nf(X)\\n+\\nf(X)\\n-1\\n(�f(X))\\n13')]\n"
     ]
    }
   ],
   "source": [
    "import myUpstageRAG\n",
    "import myPDFparser\n",
    "\n",
    "\n",
    "# 내 rag_pipeline 생성.\n",
    "DOCUMENT_PATH = \"data/10 Vector Calculus.pdf\"\n",
    "document = myPDFparser.upstageParser2Document(file_path=DOCUMENT_PATH)"
   ]
  },
  {
   "cell_type": "markdown",
   "id": "7879ae97",
   "metadata": {},
   "source": [
    "## 답변 생성 chain 생성"
   ]
  },
  {
   "cell_type": "code",
   "execution_count": 4,
   "id": "e4b547bb",
   "metadata": {},
   "outputs": [],
   "source": [
    "from myUpstageRAG import myRAG\n",
    "rag_pipeline = myRAG(document)\n"
   ]
  },
  {
   "cell_type": "code",
   "execution_count": 5,
   "id": "5503db12",
   "metadata": {},
   "outputs": [],
   "source": [
    "from langchain_teddynote.models import get_model_name, LLMs\n",
    "from langchain_openai import ChatOpenAI\n",
    "\n",
    "# 최신 모델 가져오기\n",
    "GPT4o = get_model_name(LLMs.GPT4o)\n",
    "\n",
    "# 모델 초기화\n",
    "llm = ChatOpenAI(model=GPT4o)"
   ]
  },
  {
   "cell_type": "markdown",
   "id": "197b6cba",
   "metadata": {},
   "source": [
    "## 문서와 질의의 관련성 평가\n",
    "llm (gtp-4) 모델로함"
   ]
  },
  {
   "cell_type": "code",
   "execution_count": 6,
   "id": "2fed4781",
   "metadata": {},
   "outputs": [],
   "source": [
    "from langchain_core.prompts import ChatPromptTemplate\n",
    "from langchain_openai import ChatOpenAI\n",
    "from langchain_teddynote.models import get_model_name, LLMs\n",
    "from pydantic import BaseModel, Field\n",
    "# 검색된 문서의 관련성 평가.\n",
    "# 검색된 문서가 질문과 관련이 있는지 여부 평가!\n",
    "\n",
    "\n",
    "# 모델 이름 가져오기\n",
    "MODEL_NAME = get_model_name(LLMs.GPT4)\n",
    "\n",
    "\n",
    "# 검색된 문서의 관련성 여부를 이진 점수로 평가하는 데이터 모델\n",
    "class GradeDocuments(BaseModel):\n",
    "    \"\"\"A binary score to determine the relevance of the retrieved document.\"\"\"\n",
    "\n",
    "    # 문서가 질문과 관련이 있는지 여부를 'yes' 또는 'no'로 나타내는 필드\n",
    "    binary_score: str = Field(\n",
    "        description=\"Documents are relevant to the question, 'yes' or 'no'\"\n",
    "    )\n",
    "\n",
    "\n",
    "# LLM 초기화\n",
    "llm = ChatOpenAI(model=MODEL_NAME, temperature=0)\n",
    "\n",
    "# GradeDocuments 데이터 모델을 사용하여 구조화된 출력을 생성하는 LLM\n",
    "structured_llm_grader = llm.with_structured_output(GradeDocuments)\n",
    "\n",
    "# 시스템 프롬프트 정의\n",
    "system = \"\"\"You are a grader assessing relevance of a retrieved document to a user question. \\n \n",
    "    If the document contains keyword(s) or semantic meaning related to the question, grade it as relevant. \\n\n",
    "    Give a binary score 'yes' or 'no' score to indicate whether the document is relevant to the question.\"\"\"\n",
    "\n",
    "# 채팅 프롬프트 템플릿 생성\n",
    "grade_prompt = ChatPromptTemplate.from_messages(\n",
    "    [\n",
    "        (\"system\", system),\n",
    "        (\"human\", \"Retrieved document: \\n\\n {document} \\n\\n User question: {question}\"),\n",
    "    ]\n",
    ")\n",
    "\n",
    "# Retrieval 평가기 초기화\n",
    "retrieval_grader = grade_prompt | structured_llm_grader"
   ]
  },
  {
   "cell_type": "code",
   "execution_count": 7,
   "id": "06887941",
   "metadata": {},
   "outputs": [],
   "source": [
    "# 질문 정의\n",
    "question = \"삼성전자가 개발한 생성AI 에 대해 설명하세요.\"\n",
    "\n",
    "# 문서 검색\n",
    "docs = rag_pipeline.retriever.invoke(question)\n"
   ]
  },
  {
   "cell_type": "code",
   "execution_count": 8,
   "id": "48014f55",
   "metadata": {},
   "outputs": [
    {
     "data": {
      "text/plain": [
       "[Document(id='afd53868-b4b9-4f12-ba8c-1dceb40e38a0', metadata={'page': 1}, page_content='■\\nUseful\\nidentities:\\nGradients\\nof\\nMatrices\\n이 도표는 행렬 및 벡터 연산에 대한 여러 수학적 정체성과 공식을 보여준다. 왼쪽에는 행렬과 벡터의 다양한 조합과 연산이 표시되어 있으며, 오른쪽에는 각 연산의 결과가 나와있다. 구체적으로, 도표에는 행렬식, 전치, 역행렬, 트레이스, 대칭 행렬 등 다양한 개념과 연산이 포함되어 있다. 각 연산은 수식과 함께 도식화된 방법으로 표현되어 시각적으로 이해를 돕는다. 전체적으로, 이 도표는 선형대수학에서 사용되는 다양한 행렬 및 벡터 연산과 그 결과를 종합적으로 보여준다.\\n12'),\n",
       " Document(id='b0657754-315d-40d7-948b-3d857ccb4c03', metadata={'page': 2}, page_content='■\\nThen\\ncompute\\nazTWz\\ndz\\nas\\ndz\\n=\\n2(x-As)\\nTW\\n·\\n(-A)\\n■\\n■\\nas\\na\\nLet\\ndz\\nZ\\nazTWz\\n=x-As,\\nAs)\\n(x-\\n= ZT(W + WT)\\nand\\nuse\\n=\\n「W(x - As)\\naxT\\ndx\\nBx\\n= x\\n2(x-As)\\n\\nTW\\n)\\n:\\n(B+B\\n= -2(x - As) WA\\na\\nfor\\nax\\nf(X)-1= -f(X)\\nsymmetric\\n(5.108)\\nW\\nax\\naf(X)\\nf(X)-1\\n■\\nClarification\\nof\\nsome\\nidentities:\\nGradients\\nof\\nMatrices\\n(5.102)\\n0\\n=\\nax\\nai\\n=\\nax\\n0\\n(f(X)-1f(X))\\n=\\n(。\\nf(X)-1)\\nf(X)\\n+\\nf(X)\\n-1\\n(�f(X))\\n13')]"
      ]
     },
     "execution_count": 8,
     "metadata": {},
     "output_type": "execute_result"
    }
   ],
   "source": [
    "docs"
   ]
  },
  {
   "cell_type": "code",
   "execution_count": 9,
   "id": "c77e7047",
   "metadata": {},
   "outputs": [
    {
     "name": "stdout",
     "output_type": "stream",
     "text": [
      "binary_score='no'\n"
     ]
    }
   ],
   "source": [
    "\n",
    "# 검색된 문서 중 1번 index 문서의 페이지 내용을 추출\n",
    "doc_txt = docs[1].page_content\n",
    "\n",
    "# 검색된 문서와 질문을 사용하여 관련성 평가를 실행하고 결과 출력\n",
    "print(retrieval_grader.invoke({\"question\": question, \"document\": doc_txt}))"
   ]
  },
  {
   "cell_type": "markdown",
   "id": "3c8e1e88",
   "metadata": {},
   "source": [
    "## 쿼리 재작성\n",
    "웹검색을 최적화 하기 위한 질문 재작성 단계"
   ]
  },
  {
   "cell_type": "code",
   "execution_count": 18,
   "id": "80323ab8",
   "metadata": {},
   "outputs": [
    {
     "name": "stdout",
     "output_type": "stream",
     "text": [
      "Assistant: \"Provide an overview of the generative AI developed by Samsung Electronics.\"\n"
     ]
    }
   ],
   "source": [
    "import requests\n",
    "from openai import OpenAI # openai==1.52.2\n",
    "api_key = \"up_qAeV4wltdGnqdmxavmqmxXyRBpmcZ\" # ex: up_xxxYYYzzzAAAbbbCCC\n",
    "\n",
    "## llm 생성.\n",
    "client = OpenAI(\n",
    "    api_key=api_key,\n",
    "    base_url=\"https://api.upstage.ai/v1\"\n",
    ")\n",
    "\n",
    "def chat_with_solar(messages):\n",
    "    response = client.chat.completions.create(\n",
    "        model=\"solar-pro\",\n",
    "        messages=messages\n",
    "    )\n",
    "    return response.choices[0].message.content\n",
    "\n",
    "# Query Rewrite 시스템 프롬프트\n",
    "system = \"\"\"You a question re-writer that converts an input question to a better version that is optimized \n",
    "for web search. Look at the input and try to reason about the underlying semantic intent / meaning.\n",
    "\n",
    "\"Here is the initial question: \\n\\n {question} \\n Formulate an improved question.\"\n",
    "\"\"\"\n",
    "new_question = system.format(question=question)\n",
    "new_messages = [{\"role\": \"user\", \"content\": new_question}]\n",
    "# response = chat_with_solar(new_messages)\n",
    "# print(\"Assistant:\", response)"
   ]
  },
  {
   "cell_type": "code",
   "execution_count": 19,
   "id": "85f535f2",
   "metadata": {},
   "outputs": [
    {
     "name": "stdout",
     "output_type": "stream",
     "text": [
      "[원본 질문]: \"삼성전자가 개발한 생성AI 에 대해 설명하세요.\"\n",
      "[쿼리 재작성]: \"What is the description of the generative AI developed by Samsung Electronics?\"\n"
     ]
    }
   ],
   "source": [
    "# 실행 및 결과 확인\n",
    "print(f'[원본 질문]: \"{question}\"')\n",
    "print(\"[쿼리 재작성]:\", chat_with_solar(new_messages))"
   ]
  },
  {
   "cell_type": "code",
   "execution_count": 20,
   "id": "27dc7a50",
   "metadata": {},
   "outputs": [],
   "source": [
    "# 웹 검색 도구 초기화\n",
    "from langchain_teddynote.tools.tavily import TavilySearch\n",
    "\n",
    "# 최대 검색 결과를 3으로 설정\n",
    "web_search_tool = TavilySearch(max_results=3)"
   ]
  },
  {
   "cell_type": "code",
   "execution_count": 21,
   "id": "847f0e58",
   "metadata": {},
   "outputs": [
    {
     "name": "stdout",
     "output_type": "stream",
     "text": [
      "[{'title': '\"Ai 홈으로 일상을 혁신하다\" 삼성전자, 2025년형 비스포크 Ai 라인업 공개', 'url': 'https://news.samsung.com/kr/ai-홈으로-일상을-혁신하다-삼성전자-2025년형-비스', 'content': '삼성전자가 28일 \\'웰컴 투 비스포크 AI(Welcome To Bespoke AI)\\' 행사를 개최하고 일상을 혁신하는 새로운 AI 가전 제품과 서비스를 대거 공개했다. 삼성전자 DA사업부 개발팀장 문종승 부사장은 \"삼성전자는 하드웨어 혁신을 넘어 기기 간 연결과 AI 기술을 통해,', 'score': 0.7355091, 'raw_content': None}, {'title': '2025년, 생성형 Ai 트렌드 전망 | 인사이트리포트 | 삼성sds', 'url': 'https://www.samsungsds.com/kr/insights/outlook-for-generative-ai-in-2025.html', 'content': '클라우드 보안 서비스 클라우드 보안 서비스 클라우드 보안 관제 서비스 클라우드 보안 진단 서비스 클라우드 보안 솔루션 운영 서비스 Security 다양한 클라우드 환경에서 데이터와 서비스를 안전하게 보호하는 자동화 된 보안 서비스 AI/ML 쉽고 편리하게 ML/DL 모델 개발 및 학습 환경을 구축할 수 있는 AI 서비스 삼성SDS 글로벌 물류 서비스 삼성SDS, 더 정교해진 AI 분석·예측으로 ‘데이터 기반 디지털 물류’ 이끈다.자세히 보기 클라우드 보안 서비스 클라우드 보안 서비스 클라우드 보안 관제 서비스 클라우드 보안 진단 서비스 클라우드 보안 솔루션 운영 서비스 AI 준비 상태로 만드는 작업을 빨리 시작할수록 2025년 출시될 새로운 RAG 서비스를 더 빨리 활용할 수 있습니다. 2025년에는 또한 마이크로소프트 애저, AWS, 구글 클라우드 등 클라우드 기업의 AI 제품이 발전하면서 경쟁력 있는 가격이 형성될 수 있습니다.', 'score': 0.73322314, 'raw_content': \"2025년, 생성형 AI 트렌드 전망 | 인사이트리포트 | 삼성SDS\\n\\n본문 바로 가기\\n\\nSAMSUNG SDS\\n\\n\\nGenerative AI\\n\\n\\nGenerative AI\\n\\n\\n패브릭스\\n\\n\\n브리티 코파일럿\\n\\n\\n브리티 오토메이션\\n\\n\\n삼성 클라우드 플랫폼 AI/ML\\n\\n\\n\\n\\n\\nAI New LIFE, 내일의 기술을 내 일의 기술로: 메인 편\\n\\n삼성SDS AI의 특별함\\n모든 오퍼링 보기\\n전문가 문의하기\\n\\nmenu close\\n\\n\\n클라우드\\n\\n삼성 클라우드 플랫폼\\n민관협력형 클라우드 (PPP 클라우드)\\n공공 클라우드\\n금융 클라우드\\nPrivate/Dedicated Cloud\\nGPUaaS\\n매니지드 서비스\\n클라우드 보안 서비스\\n데이터센터/네트워크\\n\\n삼성 클라우드 플랫폼 클라우드 상품 전체 보기\\n\\nCompute\\nStorage\\nDatabase\\nContainer\\nNetworking\\nSecurity\\nApplication Service\\nDevOps Tools\\nData Analytics\\nAI/ML\\nManagement\\nHybrid Cloud\\n\\n매니지드 서비스\\n\\n클라우드 컨설팅\\n클라우드 전환/구축\\n클라우드 운영\\n\\n클라우드 보안 서비스\\n\\n클라우드 보안 관제 서비스\\n클라우드 보안 진단 서비스\\n클라우드 보안 솔루션 운영 서비스\\n\\n데이터센터\\n\\n데이터센터 설계/구축/이전\\n데이터센터 운영\\n네트워크*   국내/해외 데이터 통신 서비스\\n네트워크 설계/구축\\n통신망 설계/구축\\n통신망 솔루션\\n\\nCompute 최고의 안정성을 기반으로 쉽고 편리하게 구성하는 컴퓨팅 자원\\n\\nBare Metal Server\\nCloud Functions\\nGPU Server\\nHPC Cluster\\nMulti-node GPU Cluster\\nVM Auto-Scaling\\nVirtual Server\\nVirtual Server DR\\n\\nStorage 다양한 스토리지 구성으로 안정성과 효율성을 높인 데이터 저장 서비스\\n\\nArchive Storage\\nBackup\\nBlock Storage\\nFile Storage\\nObject Storage\\nParallel File Storage\\n\\nDatabase 웹 환경에서 관계형, 비정형 및 데이터 분석 DBMS를 간편하게 생성하고 관리하는 서비스\\n\\nCUBRID\\nCacheStore\\nCassandra\\nEPAS(DBaaS)\\nMariaDB(DBaaS)\\nMicrosoft SQL Server(DBaaS)\\nMySQL(DBaaS)\\nPostgreSQL(DBaaS)\\nTibero(DBaaS)\\n\\nContainer 표준 쿠버네티스 클러스터를 생성하고 컨테이너를 배포하는 서비스\\n\\nContainer Registry\\nKubernetes Apps\\nKubernetes Engine\\n\\nNetworking 다양한 클라우드 환경에 최적화 된 빠르고 안정적인 네트워크 서비스\\n\\nCloud LAN-Campus\\nCloud LAN-Data Center\\nCloud Last Mile\\nCloud WAN\\nDNS\\nDirect Connect\\nFirewall\\nGSLB\\nGlobal CDN\\nLoad Balancer\\nPrivate 5G Cloud\\nSASE\\nSecurity Group\\nTransit Gateway\\nVPC\\nVPN\\n\\nSecurity 다양한 클라우드 환경에서 데이터와 서비스를 안전하게 보호하는 자동화 된 보안 서비스\\n\\nCertificate Manager\\nConfig Inspection\\nDDoS Protection\\nIPS\\nKey Management Service\\nLog Transmission\\nSecret Vault\\nSecured Firewall\\nSecured VPN\\nSingleID\\nWAF\\n\\nApplication Service API 관리와 사용자 알림 발송을 제공하는 서비스\\n\\nAPI Gateway\\nGraviX\\nMail/SMS/Push\\n\\nDevOps Tools 소프트웨어 개발/배포/운영 환경을 통합 제공하는 서비스\\n\\nDevOps Code\\nDevOps Service\\nGitHub Enterprise\\n\\nData Analytics 빅 데이터를 쉽고 빠르게 처리할 수 있는 분석 서비스\\n\\nCloud Hadoop\\nData Catalog\\nData Flow\\nData Ops\\nData Wrangler\\nEvent Streams\\nQuick Query\\nSQream\\nSearch Engine\\nVMware Greenplum\\nVertica(DBaaS)\\n\\nAI/ML 쉽고 편리하게 ML/DL 모델 개발 및 학습 환경을 구축할 수 있는 AI 서비스\\n\\nAI&MLOps Platform\\nAICR\\nCloudML Experiments\\nCloudML Notebook\\nCloudML Pipeline\\nCloudML Studio\\nText API\\nVision API\\n\\nManagement 사용자 활동 내역을 수집/분석하고 자원 상태를 실시간으로 모니터링 하는 서비스\\n\\nCloud Control\\nCloud Monitoring\\nIAM\\nID Center\\nLogging&Audit\\nOrganization\\nVM Migration\\n\\nHybrid Cloud Samsung Cloud Platform과 온프레미스 인프라를 유연하게 연계한 서비스\\n\\nEdge Server\\n\\nOracle Services\\n\\n\\n삼성SDS 클라우드의 특별함\\n\\nSamsung Cloud Platform\\nSamsung SDS Managed Services\\n모든 오퍼링 보기\\n전문가 문의하기\\n\\nmenu close\\n\\n\\n솔루션\\n\\n\\n인공지능\\n\\n\\n패브릭스\\n\\n\\n브라이틱스 머신러닝\\n\\n\\n브라이틱스 데이터 허브\\n\\n\\n브라이틱스 IoT\\n\\n\\n\\n\\n협업 솔루션Brity Works\\n\\n\\n브리티 코파일럿\\n\\n\\n브리티 메일\\n\\n\\n브리티 메신저\\n\\n\\n브리티 미팅\\n\\n\\n브리티 드라이브\\n\\n\\n\\n\\n업무 자동화 솔루션Brity Automation\\n\\n브리티 오토메이션\\n\\n\\n\\n팩토리 솔루션\\n\\n\\nMES\\n\\n\\nAMHS\\n\\n\\n\\n\\n엔터프라이즈 솔루션\\n\\n\\nERP\\n\\n\\nSCM\\n\\n\\n넥스프라임 SCM Response\\n\\n\\n넥스프라임 SCM Mobile\\n\\n\\n\\n\\nSRM\\n\\nCaidentia\\n\\n\\n\\nHCM\\n\\n\\n넥스프라임 HCM 급여\\n\\n\\n넥스프라임 HCM 근태\\n\\n\\n\\n\\n디지털 마케팅\\n\\n\\nAI 컨택센터\\n\\n\\n\\n\\n디지털 전환 서비스\\n\\n\\n디지털 전환 진단\\n\\n\\n디지털 전환 컨설팅\\n\\n\\nCX 이노베이션\\n\\n\\n디지털 금융\\n\\n\\n디지털 헬스\\n\\n\\n디지털 EHS\\n\\n\\n\\n\\n데이터결합분석 서비스\\n\\n\\n보안 서비스\\n\\n\\nBrity Works\\n\\nBrity Automation\\n모든 오퍼링 보기\\n전문가 문의하기\\n\\nmenu close\\n\\n\\n물류\\n\\n\\n물류 소개\\n\\n\\n디지털 물류 혁신 스토리\\n\\n\\n디지털 물류 서비스Cello Square\\n\\n\\n글로벌 공급망\\n\\n\\n국제 화물 운송\\n\\n\\n물류센터 및 내륙운송\\n\\n\\n이커머스 물류\\n\\n\\n프로젝트 물류\\n\\n\\nIT 기반 물류 서비스\\n\\n\\n글로벌 물류 거점\\n\\n\\n\\n\\n\\n삼성SDS 글로벌 물류 서비스\\n\\n삼성SDS 물류의 특별함\\nCello Square\\n모든 오퍼링 보기\\n전문가 문의하기\\n\\nmenu close\\n\\n\\n이벤트\\n\\n\\n이벤트\\n\\n\\n웨비나\\n\\n\\n2025년 5월 13일, 금융의 미래를 선도하기 위한 전략과 삼성SDS의 다양한 혁신 사례를 소개합니다!자세히 보기\\n\\nGPU as a Service 고민, 삼성SDS가 모두 해결해 드립니다.자세히 보기\\n2025년 4월 23일, 유통/서비스 기업의 미래를 준비하는 전략과 삼성SDS의 다양한 혁신 사례를 소개합니다!자세히 보기\\n\\nmenu close\\n\\n\\n인사이트\\n\\n\\n인사이트 리포트\\n\\n\\n클라우드 기술 백서\\n\\n\\n고객사례\\n\\n\\n리소스\\n\\n\\n동영상\\n\\n\\n삼성 클라우드 플랫폼 GPUaaS를 활용한 업스테이지의 성공 스토리를 확인해 보세요.자세히 보기\\n\\nAI 혁명은 2022년 ChatGPT 등장과 함께 가속화되었고, 인류는 'AI 사피엔스' 시대로 전환하고 있습니다.자세히 보기\\n국방 디지털 전환, 군사보안, 전투 클라우드와 AI 결합. 세미나 현장에서 나온 핵심 질문에 전문가들이 답변합니다.자세히 보기\\n\\nmenu close\\n\\n\\n뉴스룸\\n\\n\\n언론보도\\n\\n\\n이슈와 팩트\\n\\n\\n미디어 갤러리\\n\\n\\n삼성SDS, 더 정교해진 AI 분석·예측으로 ‘데이터 기반 디지털 물류’ 이끈다.자세히 보기\\n\\n삼성SDS-SAP, 클라우드 ERP 사업 협력 고도화 추진한다.자세히 보기\\n삼성SDS, ‘양자내성암호’ 국내 기술 표준 이끈다.자세히 보기\\n\\nmenu close\\n\\n\\n회사정보\\n\\n\\n회사소개\\n\\n\\n삼성SDS 소개\\n\\n\\n비전\\n\\n\\nCEO 소개\\n\\n\\n연혁\\n\\n\\n사업장 소개\\n\\n\\nAwards & Recognition\\n\\n\\n\\n\\n투자정보\\n\\n\\n이사회 및 위원회\\n\\n\\n재무정보\\n\\n\\nIR 행사 & 실적발표\\n\\n\\n주주총회\\n\\n\\n공시 및 알림\\n\\n\\nFAQ\\n\\n\\n\\n\\n지속가능경영\\n\\n\\nESG 소식\\n\\n\\nESG 경영체계\\n\\n\\n환경·에너지 경영\\n\\n\\n인권경영\\n\\n\\n사회공헌\\n\\n\\n안전보건경영\\n\\n\\n동반성장\\n\\n\\n윤리 & 준법경영\\n\\n\\n디지털 책임\\n\\n\\n보고서 & 정책\\n\\n\\n\\n\\n채용\\n\\n\\nXEED-LAB\\n\\n\\n삼성SDS 지속가능경영보고서 2024보고서 보기\\n\\n\\nmenu close\\n\\n\\n언어선택/Select language\\nKorea / 한국어\\nChina / 中文\\nEurope / English\\nGlobal / English\\nIndia/English\\nLatin America/Português\\nUSA / English\\nVietnam / Vietnamese\\n언어선택 닫기\\n\\n\\n검색창 열기\\nSAMSUNG SDS 메인으로 이동\\n검색\\n검색\\n검색어 삭제 검색\\n최근검색어\\n인기검색어\\n자동완성\\n최근검색어 전체 삭제 닫기\\n추천 검색어\\n패브릭스 브리티 코파일럿 브리티 오토메이션 인공지능 하이브리드 클라우드 클라우드 전환 첼로스퀘어 팩토리 솔루션\\n검색창 닫기\\n\\n\\n문의하기 문의하기\\n\\n\\n전체메뉴 열기\\nSAMSUNG SDS\\n전체메뉴 열기\\n\\n\\nGenerative AI\\n\\nGenerative AI 개요\\n패브릭스\\n브리티 코파일럿\\n브리티 오토메이션\\n삼성 클라우드 플랫폼 AI/ML\\n\\n\\n\\n클라우드\\n\\n\\n삼성SDS 클라우드의 특별함\\n\\n\\n삼성 클라우드 플랫폼\\n\\n\\nCompute\\n\\nCompute\\nBare Metal Server\\nCloud Functions\\nGPU Server\\nHPC Cluster\\nMulti-node GPU Cluster\\nVM Auto-Scaling\\nVirtual Server\\nVirtual Server DR\\n\\n\\n\\nStorage\\n\\nStorage\\nArchive Storage\\nBackup\\nBlock Storage\\nFile Storage\\nObject Storage\\nParallel File Storage\\n\\n\\n\\nDatabase\\n\\nDatabase\\nCUBRID\\nCacheStore\\nCassandra\\nEPAS(DBaaS)\\nMariaDB(DBaaS)\\nMicrosoft SQL Server(DBaaS)\\nMySQL(DBaaS)\\nPostgreSQL(DBaaS)\\nTibero(DBaaS)\\n\\n\\n\\nContainer\\n\\nContainer\\nContainer Registry\\nKubernetes Apps\\nKubernetes Engine\\n\\n\\n\\nNetworking\\n\\nNetworking\\nCloud LAN-Campus\\nCloud LAN-Data Center\\nCloud Last Mile\\nCloud WAN\\nDNS\\nDirect Connect\\nFirewall\\nGSLB\\nGlobal CDN\\nLoad Balancer\\nPrivate 5G Cloud\\nSASE\\nSecurity Group\\nTransit Gateway\\nVPC\\nVPN\\n\\n\\n\\nSecurity\\n\\nSecurity\\nCertificate Manager\\nConfig Inspection\\nDDoS Protection\\nIPS\\nKey Management Service\\nLog Transmission\\nSecret Vault\\nSecured Firewall\\nSecured VPN\\nSingleID\\nWAF\\n\\n\\n\\nApplication Service\\n\\nApplication Service\\nAPI Gateway\\nGraviX\\nMail/SMS/Push\\n\\n\\n\\nDevOps Tools\\n\\nDevOps Tools\\nDevOps Code\\nDevOps Service\\nGitHub Enterprise\\n\\n\\n\\nData Analytics\\n\\nData Analytics\\nCloud Hadoop\\nData Catalog\\nData Flow\\nData Ops\\nData Wrangler\\nEvent Streams\\nQuick Query\\nSQream\\nSearch Engine\\nVMware Greenplum\\nVertica(DBaaS)\\n\\n\\n\\nAI/ML\\n\\nAI/ML\\nAI&MLOps Platform\\nAICR\\nCloudML Experiments\\nCloudML Notebook\\nCloudML Pipeline\\nCloudML Studio\\nText API\\nVision API\\n\\n\\n\\nManagement\\n\\nManagement\\nCloud Control\\nCloud Monitoring\\nIAM\\nID Center\\nLogging&Audit\\nOrganization\\nVM Migration\\n\\n\\n\\nHybrid Cloud\\n\\nHybrid Cloud\\nEdge Server\\nOracle Services\\n\\n\\n\\n민관협력형 클라우드 (PPP 클라우드)\\n\\n\\n공공 클라우드\\n\\n\\n금융 클라우드\\n\\n\\nPrivate/Dedicated Cloud\\n\\n\\nGPUaaS\\n\\n\\n매니지드 서비스\\n\\n매니지드 서비스\\n클라우드 컨설팅\\n클라우드 전환/구축\\n클라우드 운영\\n\\n\\n\\n클라우드 보안 서비스\\n\\n클라우드 보안 서비스\\n클라우드 보안 관제 서비스\\n클라우드 보안 진단 서비스\\n클라우드 보안 솔루션 운영 서비스\\n\\n\\n\\n데이터센터\\n\\n데이터센터\\n데이터센터 설계/구축/이전\\n데이터센터 운영\\n\\n\\n\\n네트워크\\n\\n네트워크\\n국내/해외 데이터 통신 서비스\\n네트워크 설계/구축\\n통신망 설계/구축\\n통신망 솔루션\\n\\n\\n\\n\\n\\n솔루션\\n\\n삼성SDS AI의 특별함\\n\\n인공지능\\n\\n인공지능\\n패브릭스\\n브라이틱스 머신러닝\\n브라이틱스 데이터 허브\\n\\n브라이틱스 IoT\\n        *   협업 솔루션 | Brity Works\\n\\n\\n협업 솔루션 | Brity Works\\n\\n브리티 코파일럿\\n브리티 메일\\n브리티 메신저\\n브리티 미팅\\n\\n브리티 드라이브\\n        *   업무 자동화 솔루션 | Brity Automation\\n\\n\\n업무 자동화 솔루션 | Brity Automation\\n\\n\\n브리티 오토메이션\\n        *   팩토리 솔루션\\n\\n\\nMES\\n\\n\\nAMHS\\n        *   엔터프라이즈 솔루션\\n\\n\\nERP\\n\\n\\nSCM\\n\\n\\n넥스프라임 SCM Response\\n\\n\\n넥스프라임 SCM Mobile\\n\\n\\n\\n\\nSRM\\n\\nCaidentia\\n\\n\\n\\nHCM\\n\\n\\n넥스프라임 HCM 급여\\n\\n\\n넥스프라임 HCM 근태\\n\\n\\n\\n\\n디지털 마케팅\\n\\n\\nAI 컨택센터\\n\\n\\nAI 컨택센터 가상상담\\n\\n\\nAI 컨택센터 상담분석\\n\\n\\n\\n\\n\\n\\n디지털 전환 서비스\\n\\n디지털 전환 서비스\\n디지털 전환 진단\\n디지털 전환 컨설팅\\nCX 이노베이션\\n\\n디지털 금융\\n\\n넥스파이낸스\\n\\n\\n\\n디지털 헬스\\n\\n넥스메드 EHR\\n\\n\\n\\n디지털 EHS\\n        *   데이터결합분석 서비스\\n        *   보안 서비스\\n\\n\\n보안 서비스\\n\\n\\n보안 컨설팅\\n\\n\\n보안 전략 컨설팅\\n\\n\\n보안 진단 컨설팅\\n\\n\\nSOC 체계 컨설팅\\n\\n\\n\\n\\n보안 관제 서비스\\n\\n원격 보안 관제 서비스\\n\\n\\n\\n보안 솔루션\\n\\n\\nSingleID\\n\\n\\nEndpoint Security\\n\\n\\nSentinelOne\\n\\n\\nFPMS\\n\\n\\nSTORM AI for Web\\n\\n\\nIoT 보안 솔루션\\n\\n\\n\\n\\n\\n\\n\\n\\n물류\\n\\n삼성SDS 물류만의 특별함\\n디지털 물류 혁신 스토리\\n디지털 물류 서비스 | Cello Square\\n글로벌 공급망\\n국제 화물 운송\\n물류센터 및 내륙운송\\n이커머스 물류\\n프로젝트 물류\\nIT 기반 물류 서비스\\n글로벌 물류 거점\\n\\n\\n\\n이벤트\\n\\n이벤트\\n웨비나\\n\\n\\n\\n인사이트\\n\\n인사이트 리포트\\n클라우드 기술 백서\\n고객사례\\n리소스\\n동영상\\n\\n\\n\\n뉴스룸\\n\\n언론보도\\n이슈와 팩트\\n미디어 갤러리\\n\\n\\n\\n회사정보\\n\\n\\n회사소개\\n\\n삼성SDS 소개\\n비전\\nCEO 소개\\n연혁\\n사업장 소개\\n\\nAwards & Recognition\\n        *   투자정보\\n\\n\\n이사회 및 위원회\\n\\n재무정보\\nIR 행사 & 실적발표\\n주주총회\\n공시 및 알림\\n\\nFAQ\\n        *   지속가능경영\\n\\n\\nESG 소식\\n\\nESG 경영체계\\n환경·에너지 경영\\n인권경영\\n사회공헌\\n안전보건경영\\n동반성장\\n윤리 & 준법경영\\n디지털 책임\\n보고서 & 정책\\n        *   채용\\n        *   XEED-LAB\\n\\n\\n\\n\\n\\n문의하기\\n\\n\\n\\n\\n인사이트\\n\\n\\n인사이트 리포트\\n\\n\\n클라우드 기술 백서\\n\\n\\n고객사례\\n\\n\\n리소스\\n\\n\\n동영상\\n\\n\\n인사이트\\n\\n\\n인사이트 리포트\\n\\n\\n클라우드 기술 백서\\n\\n\\n고객사례\\n\\n\\n리소스\\n\\n\\n동영상\\n\\n\\n‹›\\nHome인사이트인사이트 리포트\\n인사이트 리포트/상세 기사\\nloading...\\n인공지능\\n2025년, 생성형 AI 트렌드 전망\\n2024-12-23 Martin De Saulles\\n\\n공유하기\\n인쇄하기\\n이 글은 IDG의 아티클을 전재하여 제공합니다.\\n[원문보기] \\n2025년은 AI를 중심으로 기업이 변화하는 가운데, 점진적이고 꾸준한 발전이 이뤄질 전망입니다.\\n 출처: Fizkes / Shutterstock\\n정장을 입은 백인 여성과 남성 둘이 회의를 하고 있는 이미지\\n올해는 AI에 대한 과장된 기대와 흥분이 가라앉고 보다 현실적인 기대가 자리 잡았습니다. 기업 도입 측면에서는 기존 모델의 한계와 업무 프로세스의 복잡성으로 인해 예상보다 더딘 진전을 보였습니다. 많은 기업 사용자가 깨달은 사실은 AI에 아직 ‘지능’이 없다는 점입니다. 대규모 언어 모델(LLM)은 다양한 유형의 데이터에서 패턴을 찾고 사용자 프롬프트에 일치하는 결과물을 제공하지만, 사람의 관점에서 볼 때 진정한 지능이라고 하기는 어렵습니다. LLM은 결국 그럴듯해 보이지만 부정확한 정보를 만들어내는 경향이 있기 때문입니다.  \\n생성형 AI의 한계와 비용에 대한 우려는 여전하지만, 올해는 실질적인 진전이 있었으며 2025년에는 더욱 성장할 것으로 예상됩니다. 특히 다음 5가지 영역에 대한 기업의 고민을 해결할 방안이 더 구체화할 전망입니다.\\n직원 대체가 아닌 보완\\n비용 절감, 새로운 제품과 서비스 혁신, 고객 경험 개선에 기반한 경쟁 우위 확보는 기술 도입 시 핵심적인 요소입니다. AI도 예외는 아닙니다. 다만 개방형 및 폐쇄형 LLM, 배포 도구를 모든 기업이 광범위하게 이용할 수 있는 만큼 상황은 더 복잡합니다. 80~90년대 PC 혁명이나 2000년대 클라우드 컴퓨팅 및 SaaS가 부상하던 때처럼, 모든 조직이 동일한 도구에 접근할 수 있다면 이를 어떻게 활용하느냐가 경쟁 우위를 결정합니다.  \\nAI의 경쟁 우위는 기존 인력을 보완하고 인적 자산을 활용하는 역량에 달려 있습니다. 숙련도 높은 직원을 AI로 대체 가능하다고 보는 기업은 잘못된 길을 걷게 될 가능성이 높습니다. 회사 제품, 프로세스, 시장, 고객에 대한 직원들의 지식은 문서화되지 않은 경우가 많습니다. 기술이 이런 지식을 포착할 수 있다고 믿으면, 불가능한 목표를 쫓다 실패했던 1990년대 많은 지식 관리 ‘솔루션’의 전철을 밟게 될 수 있습니다. 신뢰 및 규정 준수 플랫폼 isAI의 설립자인 마이클 홉스는 “생성형 AI 시스템에서 답변을 빠르게 얻을 수는 있다. 하지만 CIO는 더 근본적인 질문을 해야 한다. 과연 그 답변에 가치가 있는지, AI 도구가 조직의 역량을 실제로 강화하는지, 아니면 오히려 약화하는지 면밀히 살펴야 한다.”고 조언합니다.  \\nLLM이 포화 상태에 도달하고 있다는 우려가 사실이라면, 새로운 모델 생성에 사용되는 GPU가 추가될 때마다 기업의 수익은 감소할 수 있습니다. 이 경우 기존 지식 기반을 바탕으로 AI를 활용해 직원 역량을 향상하는 전략이 핵심이 될 것입니다.\\n데이터 자산에 집중\\n2025년에는 직원뿐만 아니라 기업의 데이터 자산 가치도 점점 더 높아질 예정입니다. 파운데이션 모델은 설계상 여러 공개 소스에서 수집된 광범위한 데이터를 학습합니다. 이는 일반적인 질문에 답변하는 능력은 뛰어나지만, 대부분 기업의 특정 요구사항을 해결하는 데는 제한적입니다. 검색 증강 생성(RAG)은 기업 고유의 데이터와 LLM의 기능을 결합해 더 집중적이고 관련성 높은 결과를 제공할 수 있습니다. 포레스터는 2025년에 많은 클라우드 업체가 RAG를 주요 상품으로 제공할 예정이라며, 이를 통해 기업이 더 넓은 벤더 선택권과 경쟁력 있는 비용으로 RAG를 도입할 수 있을 것이라고 전망했습니다.  \\nRAG 서비스의 혜택을 받으려면 조직은 AI에 준비된 데이터를 확보해야 합니다. 여기에는 데이터 정제, 중복 제거, 유효성 검사, 구조화, 소유권 확인 등 기본적이면서 필수인 정보 관리 활동이 포함됩니다. 포레스터는 AI 거버넌스 소프트웨어에 대한 지출이 2030년까지 4배 이상 증가해 약 160억 달러에 이를 것이라고 예측했습니다.  \\n기업은 전사적으로 데이터 자산을 식별하고, 이를 활용할 창의적인 접근 방식을 채택해야 합니다. AI 준비 상태로 만드는 작업을 빨리 시작할수록 2025년 출시될 새로운 RAG 서비스를 더 빨리 활용할 수 있습니다.\\n비용 통제\\n가트너의 2024년 설문조사에 따르면, CIO의 90% 이상이 비용 관리로 인해 AI 투자에서 기업 가치를 창출하는 데 한계가 있다고 답했습니다. 가트너는 광범위하게 AI를 배포하기 전에 비용이 어떻게 확장될지 계산할 필요가 있다고 언급했습니다. 그렇지 않으면 500%에서 1,000%에 이르는 비용 오차가 발생할 수 있습니다. 2025년에는 가트너, IDC, 포레스터 등 여러 기업이 개념 증명(PoC)과 초기 배포에서 얻은 지식을 바탕으로 이런 비용을 계산하는 더 나은 프레임워크를 제공할 것으로 예상됩니다.  \\n2025년에는 또한 마이크로소프트 애저, AWS, 구글 클라우드 등 클라우드 기업의 AI 제품이 발전하면서 경쟁력 있는 가격이 형성될 수 있습니다. 이는 기업의 비용 관리에 도움이 될 수 있습니다. 다만 새로운 AI 지원 데이터센터의 구축 속도가 관건입니다. 맥킨지는 2023년부터 2030년까지 데이터센터 용량에 대한 전 세계 수요가 연간 19%에서 22% 증가할 것으로 예상했습니다. 새로운 센터에 공급되는 전력 문제도 2025년과 그 이후에 수요를 제한하는 요인이 될 수 있습니다.\\nAI ROI 측정\\n2025년에는 기업 내 AI 배포의 복잡성이 더 심화하면서 ROI에 대한 우려도 늘어날 가능성이 높습니다. 그러나 ROI를 계산하는 더 세밀한 접근 방식도 등장할 수 있습니다. 재무 및 생산성 관점에서 새로운 기술의 가치를 측정하기란 오랫동안 어려운 과제였습니다. 1987년 노벨상 수상자인 로버트 솔로우는 “컴퓨터는 어디에서나 사용되지만, 생산성 통계에서는 찾아볼 수 없다.”고 말한 바 있습니다. 정보 기술이 급속도로 발전하는 상황에서 미국의 생산성 증가율이 둔화하는 현상을 지적한 것입니다.  \\n이런 문제는 2025년에도 계속돼 관리자들이 AI 투자의 이점을 수치화하는 데 어려움을 겪을 수 있습니다. 문제는 AI의 이점을 측정하는 공통 기준의 부재입니다. 비용은 이전 연도와 비교할 수 있기에 비교적 쉽게 계산하는 기준입니다. 하지만 AI를 통한 직원의 업무 개선 수준을 계산하기는 더 어렵습니다. AI 배포 확장에 따른 비용 계산과 마찬가지로, 2025년에는 관리자가 투자 가치를 특정하는 데 유용한 새 프레임워크가 등장할 가능성이 높습니다. 이런 프레임워크는 기존의 KPI를 넘어 고객 만족도 수준, 의사 결정 개성, 혁신 프로세스 가속화 등의 지표를 통합해야 합니다.\\nAI 혁신 시대의 생존 전략\\n현재 AI 제품의 혁신적인 특성은 과거 인터넷이 블록버스터, 보더스, HMV 같은 기업을 약화하고 결국 대체했던 것처럼 많은 기업의 비즈니스 모델을 위협하고 있습니다. 클레이튼 크리스텐슨은 이런 상황을 ‘혁신 기업의 딜레마’라고 불렀습니다. 이는 잘 운영되고 성공적인 기업이 새로운 기술과 비즈니스 관행을 혁신적으로 다루는 신규 진입자에 의해 쉽게 무너질 수 있다는 개념입니다. 온라인 교육 대기업인 체그(Chegg)의 사례가 대표적입니다. 체그는 학생들이 월 19.95달러의 구독 서비스 대신 무료로 챗GPT의 도움을 받으면서 시장 가치의 99%, 즉 145억 달러를 잃었습니다.  \\n이처럼 극적이지는 않더라도 2025년에 유사한 사례가 등장할 수 있습니다. 이런 문제는 B2C와 B2B 환경 모두에서 마케팅, 출판, 엔터테인먼트, 교육 등 여러 부문에 걸쳐 있습니다. 체그 사례는 모든 기업에 경고가 돼야 하지만, 한편으론 기회가 될 수도 있습니다. SWOT 분석과 같은 시나리오 계획이 우선순위가 돼야 합니다. 기업의 강점이 어떻게 AI의 이점을 활용할 수 있으며, 외부 기회와 위협은 어떤 영향을 미칠까요?  \\n2025년은 여러 면에서 도전적인 해입니다. 기업 관점에서 AI 중심의 변화는 가속화되겠지만, 천천히 그리고 꾸준히 진행될 것입니다. 많은 모델의 접근성이 개선되고 기존 애플리케이션과 통합되면서 모든 기업이 이를 이용할 수 있게 됐습니다. 따라서 AI를 통해 기존 강점과 데이터 자산을 보완하고 전략적 목표에 맞추는 기업이 성공할 가능성이 높습니다.\\n\\n▶\\xa0\\xa0 해당 콘텐츠는 저작권법에 의하여 보호받는 저작물로 기고자에게 저작권이 있습니다.\\n▶\\xa0\\xa0 해당 콘텐츠는 사전 동의 없이 2차 가공 및 영리적인 이용을 금하고 있습니다.\\n\\n#생성형AI;)\\n#AI전망;)\\n#AI혁신;)\\n#LLM;)\\n#RAG;)\\n#인공지능ROI;)\\n\\n이 글이 좋으셨다면 구독&좋아요\\n여러분의 “구독”과 “좋아요”는\\n저자에게 큰 힘이 됩니다.\\n구독하기\\n4\\n\\n\\nMartin De Saulles\\nCIOCIO의 Contributing Writer\\n모든 글보기\\n<목록보기\\n뉴스레터 구독신청\\n관련 아티클\\n\\nAI 프로젝트에서 ROI가 더욱 중요한 이유\\nAI 에이전트의 확산과 과제\\nOf the LLM, by the LLM, for the LLM - LLM 신뢰성 평가를 위한 LLM 활용 동향과 사례\\n로우코드 방식으로 주도하는 에이전틱 AI\\n인텔리전스 혁명을 위한 AI 퍼스트 전략\\n\\n딥시크(DeepSeek)가 촉발한 AI 시장의 지각 변동\\n\\n\\n클라우드 \\n\\n첼로스퀘어 \\n문의하기 \\nTOP \\n\\n위로\\n모든 오퍼링 보기\\n사이트맵\\n클라우드 용어집\\n회사정보\\n\\n회사소개\\n공지사항\\n채용\\nAwards & Recognition\\n\\nSDS NOW\\n\\n인사이트리포트\\n언론보도\\n이벤트\\n\\n고객지원\\n\\n문의하기\\n기술지원\\n보안신고센터\\n개인정보침해신고\\n제보하기\\n라이선스\\n\\n채널 파트너\\n\\n파트너 허브\\n\\n패밀리사이트\\n\\n자회사\\n멀티캠퍼스\\n미라콤아이앤씨\\n에스코어\\n시큐아이\\n\\n엠로\\n\\n\\n비지니스\\n\\nBrityautomation.ai\\nBrity Works\\nCello Square\\nSamsung Cloud Platform\\nSamsung SDS Brightics AI\\nSamsung SDS Managed Services\\nSamsung Wyz070\\n\\n위로\\n뉴스레터 구독신청\\n\\nLinkedIn\\nfacebook\\ntwitter\\ninstagram\\nyoutube\\npost\\n\\nKorea / 한국어\\n지역/언어를 선택해주세요.\\n\\nKorea / 한국어\\nChina / 中文\\nEurope / English\\nGlobal / English\\nIndia/English\\nLatin America/Português\\nUSA / English\\nVietnam / Vietnamese\\n\\n닫기\\n개인정보처리방침\\n개인정보처리방침\\n\\n닷컴 개인정보처리방침\\n소셜 미디어 개인정보처리방침\\n영상정보처리기기 운영·관리 방침\\n\\n닫기\\n개인정보처리방침\\n\\n닷컴 개인정보처리방침\\n소셜 미디어 개인정보처리방침\\n영상정보처리기기 운영·관리 방침\\n\\n이용약관 서비스 이용약관 이메일무단수집거부 아이디어 정책 \\n서울시 송파구 올림픽로 35길 125 삼성SDS (05510)\\n© SAMSUNG SDS. All rights reserved.\\n뉴스레터 구독신청\\n\\nLinkedIn\\nfacebook\\ntwitter\\ninstagram\\nyoutube\\npost\\n\\nKorea / 한국어\\n\\nKorea / 한국어\\nChina / 中文\\nEurope / English\\nGlobal / English\\nIndia/English\\nLatin America/Português\\nUSA / English\\nVietnam / Vietnamese\\n\\n이메일주소 무단수집거부\\n본 웹사이트에 게시된 이메일 주소가 전자우편 수집 프로그램이나 그 밖의 기술적 장치를 이용하여 무단으로 수집되는 것을 거부하며, 이를 위반 시 정보통신망법에 의해 형사 처벌됨을 유념하시기 바랍니다.\\n확인\\n닫기\\n아이디어 제안에 대한 정책\\n삼성SDS 및 삼성SDS 임직원은 당사가 공식적으로 요청하지 않았음에도 불구하고 여러분께서 일방적으로 당사에 제출하는 아이디어나 제안 등을 수령하거나 검토하지 않습니다.이는 제출하신 내용이 당사 내부적으로 개발한 제품, 기술, 서비스와 유사할 경우 발생할 수 있는 오해와 분쟁을 방지하고 나아가 여러분의 창의적인 아이디어를 적극 보호하기 위함입니다.\\n이러한 취지를 이해하여 주시고 구체화되지 않은 아이디어나 콘셉트(Concept) 단계의 제안이 당사에 제출되지 않도록 하여 주시기 바랍니다.\\n닫기\\n공유하기\\n공유하기 닫기\\n__     \"}, {'title': '삼성전자, 반도체 개발에 생성형 Ai 적용 확대… 메타 이어 구글·Ms Ai 모델 도입 - 조선비즈', 'url': 'https://biz.chosun.com/it-science/ict/2025/05/09/2J5R6DKYLBEGNFZ2QSGHUPGPR4/', 'content': '삼성전자, 반도체 개발에 생성형 ai 적용 확대 메타 이어 구글·ms ai 모델 도입 자체 기술 중심 폐쇄형 사내 ai 운영 기조 깬 삼성전자 복수 빅테크', 'score': 0.39726064, 'raw_content': None}]\n"
     ]
    }
   ],
   "source": [
    "# 웹 검색 도구 실행\n",
    "results = web_search_tool.invoke({\"query\": new_question})\n",
    "print(results)"
   ]
  },
  {
   "cell_type": "code",
   "execution_count": 24,
   "id": "049513c2",
   "metadata": {},
   "outputs": [
    {
     "data": {
      "text/plain": [
       "'클라우드 보안 서비스 클라우드 보안 서비스 클라우드 보안 관제 서비스 클라우드 보안 진단 서비스 클라우드 보안 솔루션 운영 서비스 Security 다양한 클라우드 환경에서 데이터와 서비스를 안전하게 보호하는 자동화 된 보안 서비스 AI/ML 쉽고 편리하게 ML/DL 모델 개발 및 학습 환경을 구축할 수 있는 AI 서비스 삼성SDS 글로벌 물류 서비스 삼성SDS, 더 정교해진 AI 분석·예측으로 ‘데이터 기반 디지털 물류’ 이끈다.자세히 보기 클라우드 보안 서비스 클라우드 보안 서비스 클라우드 보안 관제 서비스 클라우드 보안 진단 서비스 클라우드 보안 솔루션 운영 서비스 AI 준비 상태로 만드는 작업을 빨리 시작할수록 2025년 출시될 새로운 RAG 서비스를 더 빨리 활용할 수 있습니다. 2025년에는 또한 마이크로소프트 애저, AWS, 구글 클라우드 등 클라우드 기업의 AI 제품이 발전하면서 경쟁력 있는 가격이 형성될 수 있습니다.'"
      ]
     },
     "execution_count": 24,
     "metadata": {},
     "output_type": "execute_result"
    }
   ],
   "source": [
    "results[1][\"content\"]"
   ]
  },
  {
   "cell_type": "code",
   "execution_count": null,
   "id": "59d2eac5",
   "metadata": {},
   "outputs": [],
   "source": [
    "from typing import Annotated, List\n",
    "from typing_extensions import TypedDict\n",
    "\n",
    "\n",
    "# 상태 정의\n",
    "class GraphState(TypedDict):\n",
    "    question: Annotated[str, \"The question to answer\"]\n",
    "    generation: Annotated[str, \"The generation from the LLM\"]\n",
    "    web_search: Annotated[str, \"Whether to add search\"]\n",
    "    documents: Annotated[List[str], \"The documents retrieved\"]  # 검색된 documents"
   ]
  },
  {
   "cell_type": "code",
   "execution_count": null,
   "id": "f1e0cef6",
   "metadata": {},
   "outputs": [],
   "source": [
    "from langchain.schema import Document\n",
    "\n",
    "# 내가 정의한 RAG chain을 사용하기 위한 메세지 형태.\n",
    "# 형태 : messages = [{\"role\": \"user\", \"content\": formatted_prompt}]\n",
    "def formatting_question(question : str):\n",
    "    return  [{\"role\": \"user\", \"content\": question}]\n",
    "\n",
    "\n",
    "# 문서 검색 노드\n",
    "# 문서 내에서 \n",
    "def retrieve(state: GraphState):\n",
    "    print(\"\\n==== RETRIEVE ====\\n\")\n",
    "    question = state[\"question\"]\n",
    "\n",
    "    # 문서 검색 수행\n",
    "    documents = rag_pipeline.retriever.invoke(question)\n",
    "    return {\"documents\": documents}\n",
    "\n",
    "\n",
    "# 답변 생성 노드\n",
    "def generate(state: GraphState):\n",
    "    print(\"\\n==== GENERATE ====\\n\")\n",
    "    question = state[\"question\"]\n",
    "\n",
    "    # RAG를 사용한 답변 생성\n",
    "    generation = rag_pipeline.RAG_chain_invoke(question)\n",
    "    return {\"generation\": generation}\n",
    "\n",
    "\n",
    "# 문서 평가 노드\n",
    "def grade_documents(state: GraphState):\n",
    "    print(\"\\n==== [CHECK DOCUMENT RELEVANCE TO QUESTION] ====\\n\")\n",
    "    question = state[\"question\"]\n",
    "    documents = state[\"documents\"]\n",
    "\n",
    "    # 필터링된 문서\n",
    "    filtered_docs = []\n",
    "    relevant_doc_count = 0\n",
    "\n",
    "    for d in documents:\n",
    "        # Question-Document 의 관련성 평가\n",
    "        score = retrieval_grader.invoke(\n",
    "            {\"question\": question, \"document\": d.page_content}\n",
    "        )\n",
    "        grade = score.binary_score\n",
    "\n",
    "        if grade == \"yes\":\n",
    "            print(\"==== [GRADE: DOCUMENT RELEVANT] ====\")\n",
    "            # 관련 있는 문서를 filtered_docs 에 추가\n",
    "            filtered_docs.append(d)\n",
    "            relevant_doc_count += 1\n",
    "        else:\n",
    "            print(\"==== [GRADE: DOCUMENT NOT RELEVANT] ====\")\n",
    "            continue\n",
    "\n",
    "    # 관련 문서가 없으면 웹 검색 수행\n",
    "    web_search = \"Yes\" if relevant_doc_count == 0 else \"No\"\n",
    "    return {\"documents\": filtered_docs, \"web_search\": web_search}\n",
    "\n",
    "\n",
    "# 쿼리 재작성 노드\n",
    "# myRAG에 맞게 재작성 필요할듯?\n",
    "def query_rewrite(state: GraphState):\n",
    "    print(\"\\n==== [REWRITE QUERY] ====\\n\")\n",
    "    question = state[\"question\"]\n",
    "\n",
    "    # 질문 재작성\n",
    "    better_question = myRAG.invoke(question)\n",
    "    return {\"question\": better_question}\n",
    "\n",
    "\n",
    "# 웹 검색 노드\n",
    "def web_search(state: GraphState):\n",
    "    print(\"\\n==== [WEB SEARCH] ====\\n\")\n",
    "    question = state[\"question\"]\n",
    "    documents = state[\"documents\"]\n",
    "\n",
    "    # 웹 검색 수행\n",
    "    docs = web_search_tool.invoke({\"query\": question})\n",
    "    # 검색 결과를 문서 형식으로 변환\n",
    "    web_results = \"\\n\".join([d[\"content\"] for d in docs])\n",
    "    web_results = Document(page_content=web_results)\n",
    "    documents.append(web_results)\n",
    "\n",
    "    return {\"documents\": documents}"
   ]
  },
  {
   "cell_type": "code",
   "execution_count": null,
   "id": "9592e9d6",
   "metadata": {},
   "outputs": [],
   "source": []
  },
  {
   "cell_type": "markdown",
   "id": "a4766ad1",
   "metadata": {},
   "source": []
  }
 ],
 "metadata": {
  "kernelspec": {
   "display_name": "new_env",
   "language": "python",
   "name": "python3"
  },
  "language_info": {
   "codemirror_mode": {
    "name": "ipython",
    "version": 3
   },
   "file_extension": ".py",
   "mimetype": "text/x-python",
   "name": "python",
   "nbconvert_exporter": "python",
   "pygments_lexer": "ipython3",
   "version": "3.11.9"
  }
 },
 "nbformat": 4,
 "nbformat_minor": 5
}
